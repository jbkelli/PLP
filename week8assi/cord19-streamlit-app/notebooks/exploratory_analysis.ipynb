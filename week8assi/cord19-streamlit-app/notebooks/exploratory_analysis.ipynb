{
 "cells": [
  {
   "cell_type": "markdown",
   "metadata": {},
   "source": [
    "# Exploratory Data Analysis (EDA) on CORD-19 Dataset\n",
    "\n",
    "This notebook contains the exploratory data analysis steps for the CORD-19 research dataset. We will load the dataset, perform basic exploration, clean the data, and create initial visualizations to document our findings and insights."
   ]
  },
  {
   "cell_type": "code",
   "execution_count": null,
   "metadata": {
    "id": "data-loading"
   },
   "outputs": [],
   "source": [
    "# Import necessary libraries\n",
    "import pandas as pd\n",
    "import numpy as np\n",
    "import matplotlib.pyplot as plt\n",
    "import seaborn as sns\n",
    "\n",
    "# Set visualization style\n",
    "sns.set(style='whitegrid')\n",
    "\n",
    "# Load the dataset\n",
    "data_path = '../data/cord19.csv'  # Update with the correct path to your dataset\n",
    "df = pd.read_csv(data_path)\n",
    "\n",
    "# Display the first few rows of the dataset\n",
    "df.head()"
   ]
  },
  {
   "cell_type": "code",
   "execution_count": null,
   "metadata": {
    "id": "basic-exploration"
   },
   "outputs": [],
   "source": [
    "# Basic exploration of the dataset\n",
    "\n",
    "# Check the shape of the dataset\n",
    "df.shape\n",
    "\n",
    "# Check for missing values\n",
    "missing_values = df.isnull().sum()\n",
    "missing_values[missing_values > 0]"
   ]
  },
  {
   "cell_type": "code",
   "execution_count": null,
   "metadata": {
    "id": "data-cleaning"
   },
   "outputs": [],
   "source": [
    "# Data cleaning steps\n",
    "\n",
    "# Example: Dropping rows with missing titles\n",
    "df_cleaned = df.dropna(subset=['title'])\n",
    "\n",
    "# Reset index after cleaning\n",
    "df_cleaned.reset_index(drop=True, inplace=True)\n",
    "\n",
    "# Display the shape of the cleaned dataset\n",
    "df_cleaned.shape"
   ]
  },
  {
   "cell_type": "code",
   "execution_count": null,
   "metadata": {
    "id": "initial-visualizations"
   },
   "outputs": [],
   "source": [
    "# Initial visualizations\n",
    "\n",
    "# Example: Count of publications by year\n",
    "df_cleaned['publish_time'] = pd.to_datetime(df_cleaned['publish_time'])\n",
    "df_cleaned['year'] = df_cleaned['publish_time'].dt.year\n",
    "\n",
    "publications_by_year = df_cleaned['year'].value_counts().sort_index()\n",
    "\n",
    "# Plotting\n",
    "plt.figure(figsize=(12, 6))\n",
    "sns.barplot(x=publications_by_year.index, y=publications_by_year.values)\n",
    "plt.title('Number of Publications by Year')\n",
    "plt.xlabel('Year')\n",
    "plt.ylabel('Number of Publications')\n",
    "plt.xticks(rotation=45)\n",
    "plt.show()"
   ]
  },
  {
   "cell_type": "markdown",
   "metadata": {},
   "source": [
    "## Conclusion\n",
    "\n",
    "In this notebook, we performed exploratory data analysis on the CORD-19 dataset. We loaded the data, explored its structure, cleaned it, and created initial visualizations. Further analysis and visualizations can be added in subsequent sections."
   ]
  }
 ],
 "metadata": {
  "kernelspec": {
   "display_name": "Python 3",
   "language": "python",
   "name": "python3"
  },
  "language_info": {
   "codemirror_mode": {
    "name": "ipython",
    "version": 3
   },
   "file_extension": ".py",
   "mimetype": "text/x-python",
   "name": "python",
   "nbconvert_exporter": "python",
   "pygments_lexer": "ipython3",
   "version": "3.8.5"
  }
 },
 "nbformat": 4,
 "nbformat_minor": 4
}